{
 "cells": [
  {
   "cell_type": "markdown",
   "metadata": {},
   "source": [
    "## Explain the \"Flatland Space Stations\" problem from HackerRank.\n",
    "### Problem Statement\n",
    "\n",
    "In Flatland, cities are numbered from 0 to n-1. Among them, some cities have space stations. Our task is to determine the maximum distance from any city to its closest space station.\n",
    "\n",
    "### Example\n",
    "\n",
    "Suppose there are 5 cities in Flatland (**n** = 5) with space stations located in cities represented by the array **c** = [0, 4].\n",
    "\n",
    "n = 5<br />\n",
    "c = [0, 4]\n",
    "\n",
    "The provided details allow us to determine the maximum distance as follows:\n",
    "- City 0 has a distance of 0 because it has its own space station.\n",
    "- City 1 has a distance of 1 because it is close to City 0.\n",
    "- City 2 is the middle of both City 0 and City 4, with a distance of 2.\n",
    "- City 3 has a distance of 1 because it is close to City 4.\n",
    "- City 4 has a distance of 0 because it has its own space station.\n",
    "\n",
    "The maximum distance is 2, from City 2 to the closest space station.\n",
    "\n",
    "### Algorithm\n",
    "\n",
    "- Sort the array **c** in ascending order.\n",
    "- Set the **max_distance** variable with the distance of the first city, which is the first element of the array **c**.\n",
    "- Use a for loop to iterate through the array **c** starting from the second city with a space station.\n",
    "  - Find the maximum distance from a space station by calculating distances between nearby space stations and updating the **max_distance** variable.\n",
    "- Return the value of **max_distance**."
   ]
  },
  {
   "cell_type": "code",
   "execution_count": 1,
   "metadata": {},
   "outputs": [],
   "source": [
    "def flatlandSpaceStations(n, c):\n",
    "  c.sort()\n",
    "  max_distance = c[0]\n",
    "\n",
    "  for i in range(1, len(c)):\n",
    "    max_distance = max(max_distance, (c[i] - c[i-1]) // 2)\n",
    "\n",
    "  max_distance = max(max_distance, n - 1 - c[-1])\n",
    "\n",
    "  return max_distance\n"
   ]
  },
  {
   "cell_type": "code",
   "execution_count": 2,
   "metadata": {},
   "outputs": [
    {
     "data": {
      "text/plain": [
       "2"
      ]
     },
     "execution_count": 2,
     "metadata": {},
     "output_type": "execute_result"
    }
   ],
   "source": [
    "n, c = 5, [0, 4]\n",
    "flatlandSpaceStations(n, c)"
   ]
  }
 ],
 "metadata": {
  "kernelspec": {
   "display_name": "Python 3",
   "language": "python",
   "name": "python3"
  },
  "language_info": {
   "codemirror_mode": {
    "name": "ipython",
    "version": 3
   },
   "file_extension": ".py",
   "mimetype": "text/x-python",
   "name": "python",
   "nbconvert_exporter": "python",
   "pygments_lexer": "ipython3",
   "version": "3.10.2"
  }
 },
 "nbformat": 4,
 "nbformat_minor": 2
}
