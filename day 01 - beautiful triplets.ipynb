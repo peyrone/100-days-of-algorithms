{
 "cells": [
  {
   "cell_type": "markdown",
   "metadata": {},
   "source": [
    "## Explain the \"Beautiful Triplet\" problem from HackerRank.\n",
    "### Problem Statement\n",
    "Given an integer sequence **arr** and an integer **d**, a triple **(i, j, k)** is considered beautiful if:\n",
    "- The indices are in ascending order: **i < j < k**\n",
    "- The differences between consecutive elements are equal to **d**: **arr[j] - arr[i] = arr[k] - arr[j] = d**\n",
    "- Counting beautiful triplets exists in **arr** \n",
    "\n",
    "### Example\n",
    "Given arr = [1, 2, 4, 5, 7, 8, 10] and d = 3.\n",
    "\n",
    "There are three beautiful triplets:\n",
    "- (0, 2, 4)\n",
    "- (2, 4, 6)\n",
    "- (1, 3, 5)\n",
    "\n",
    "Hence, the answer is 3.\n",
    "\n",
    "### Algorithm\n",
    "- Convert **arr** to a set **values** in which fast look-up.\n",
    "- Set the variable count to 0.\n",
    "- For each **el** in **arr**\n",
    "  - Check if el + d and el + 2*d exist in **values**.\n",
    "  - If the preceding condition is true, increase the count.\n",
    "- Return the count"
   ]
  },
  {
   "cell_type": "code",
   "execution_count": 10,
   "metadata": {},
   "outputs": [],
   "source": [
    "def beautifulTriplets(d, arr):\n",
    "  values = set(arr)\n",
    "  count = 0\n",
    "\n",
    "  for el in arr:\n",
    "    if (el + d) in values and (el + 2*d) in values:\n",
    "      count += 1\n",
    "\n",
    "  return count"
   ]
  },
  {
   "cell_type": "code",
   "execution_count": 9,
   "metadata": {},
   "outputs": [
    {
     "name": "stdout",
     "output_type": "stream",
     "text": [
      "debug: (1, 4, 7)\n",
      "debug: (2, 5, 8)\n",
      "debug: (4, 7, 10)\n",
      "count: 3\n"
     ]
    }
   ],
   "source": [
    "d = 3\n",
    "arr = [1, 2, 4, 5, 7, 8, 10]\n",
    "count = beautifulTriplets(d, arr)\n",
    "print(f'count: {count}')"
   ]
  }
 ],
 "metadata": {
  "kernelspec": {
   "display_name": "Python 3",
   "language": "python",
   "name": "python3"
  },
  "language_info": {
   "codemirror_mode": {
    "name": "ipython",
    "version": 3
   },
   "file_extension": ".py",
   "mimetype": "text/x-python",
   "name": "python",
   "nbconvert_exporter": "python",
   "pygments_lexer": "ipython3",
   "version": "3.10.2"
  },
  "orig_nbformat": 4
 },
 "nbformat": 4,
 "nbformat_minor": 2
}
