{
 "cells": [
  {
   "cell_type": "markdown",
   "metadata": {},
   "source": [
    "## Explain the \"The Time in Words\" problem from HackerRank.\n",
    "### Problem Statement\n",
    "\n",
    "Convert the given time in which provided in hours(h) and minutes(m), ensuring that **1 <= h <= 12** and **0 <= m < 60**.\n",
    "\n",
    "### Example\n",
    "\n",
    "For h = 5 and m = 45, this time convertes to \"quarter to six.\"\n",
    "\n",
    "To design an algorithm that converts time into text, we must predefine the conditions as follows:\n",
    "- If minutes **m** equals 0, then the text is \"$hourInText\\'o clock.\" \n",
    "- For m = 1, then the text is \"one minute past $hourInText.\"\n",
    "- For m = 59, then the text is \"one minute to $nextHourInText.\"\n",
    "- For m = 15, then the text is \"quarter past $hourInText.\"\n",
    "- When 1 < m < 30, then the text is \"$minuteInText minutes past $hourInText.\"\n",
    "- For m = 30, then the text is \"half past $hourInText.\".\n",
    "- For m = 45, then the text is \"quarter to $nextHourInText.\"\n",
    "- Otherwise, the text is \"$minuteInText minutes to $nextHourInText.\"\n",
    "\n",
    "Notes:\n",
    "- **$hourInText** denotes the converted hour **h** in text.\n",
    "- **$nextHourInText** denotes the converted hour **h + 1** in text.\n",
    "- **$minuteInText** denotes the converted minute **m** in text.\n",
    "\n",
    "### Algorithm\n",
    "\n",
    "- Define the dictionaries for **hours** and **minutes** to store words corresponding to hours and minutes respectively:\n",
    "  - hours: Maps numbers from 0 to 12 to their corresponding words for hours.\n",
    "  - minutes: Maps numbers from 0 to 59 to their corresponding words for minutes.\n",
    "- Use a for loop to populate the missing values from 21 to 29 in the **minutes** dictionary, e.g., \"twenty one\", \"twenty two.\"\n",
    "- Implement the above conditions using dictionaries and the modulo operator:\n",
    "  - The use of modulo operation (%) with 12 for hours ensures that the time is accurately represented.\n",
    "- Return the time as words."
   ]
  },
  {
   "cell_type": "code",
   "execution_count": 1,
   "metadata": {},
   "outputs": [],
   "source": [
    "def timeInWords(h, m):\n",
    "  hours = {\n",
    "    0: 'midnight',\n",
    "    1: 'one',\n",
    "    2: 'two',\n",
    "    3: 'three',\n",
    "    4: 'four',\n",
    "    5: 'five',\n",
    "    6: 'six',\n",
    "    7: 'seven',\n",
    "    8: 'eight',\n",
    "    9: 'nine',\n",
    "    10: 'ten',\n",
    "    11: 'eleven',\n",
    "    12: 'twelve'\n",
    "  }\n",
    "\n",
    "  minutes = {\n",
    "    1: 'one',\n",
    "    2: 'two',\n",
    "    3: 'three',\n",
    "    4: 'four',\n",
    "    5: 'five',\n",
    "    6: 'six',\n",
    "    7: 'seven',\n",
    "    8: 'eight',\n",
    "    9: 'nine',\n",
    "    10: 'ten',\n",
    "    11: 'eleven',\n",
    "    12: 'twelve',\n",
    "    13: 'thirteen',\n",
    "    14: 'fourteen',\n",
    "    15: 'quarter',\n",
    "    16: 'sixteen',\n",
    "    17: 'seventeen',\n",
    "    18: 'eighteen',\n",
    "    19: 'nineteen',\n",
    "    20: 'twenty'\n",
    "  }\n",
    "\n",
    "  minutes.update({i: \"twenty \" + minutes[i-20] for i in range(21, 30)})\n",
    "\n",
    "  if m == 0:\n",
    "    return f\"{hours[h % 12]} o' clock\"\n",
    "  elif m == 1:\n",
    "    return f\"one minute past {hours[h % 12]}\"\n",
    "  elif m == 59:\n",
    "    return f\"one minute to {hours[(h + 1) % 12]}\"\n",
    "  elif m == 15:\n",
    "    return f\"{minutes[m]} past {hours[h % 12]}\"\n",
    "  elif 1 < m < 30:\n",
    "    return f\"{minutes[m]} minutes past {hours[h % 12]}\"\n",
    "  elif m == 30:\n",
    "    return f\"half past {hours[h % 12]}\"\n",
    "  elif m == 45:\n",
    "    return f\"{minutes[60-m]} to {hours[(h+1) % 12]}\"\n",
    "  else:\n",
    "    return f\"{minutes[60-m]} minutes to {hours[(h+1) % 12]}\"\n"
   ]
  },
  {
   "cell_type": "code",
   "execution_count": 2,
   "metadata": {},
   "outputs": [
    {
     "data": {
      "text/plain": [
       "'quarter to six'"
      ]
     },
     "execution_count": 2,
     "metadata": {},
     "output_type": "execute_result"
    }
   ],
   "source": [
    "h, m = 5, 45\n",
    "timeInWords(h, m)"
   ]
  }
 ],
 "metadata": {
  "kernelspec": {
   "display_name": "Python 3",
   "language": "python",
   "name": "python3"
  },
  "language_info": {
   "codemirror_mode": {
    "name": "ipython",
    "version": 3
   },
   "file_extension": ".py",
   "mimetype": "text/x-python",
   "name": "python",
   "nbconvert_exporter": "python",
   "pygments_lexer": "ipython3",
   "version": "3.10.2"
  },
  "orig_nbformat": 4
 },
 "nbformat": 4,
 "nbformat_minor": 2
}
