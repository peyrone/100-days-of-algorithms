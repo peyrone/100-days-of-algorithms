{
 "cells": [
  {
   "cell_type": "markdown",
   "metadata": {},
   "source": [
    "## Explain the \"Halloween Sale\" problem from HackerRank.\n",
    "### Problem Statement\n",
    "\n",
    "The store's Halloween Sale offers special discounts to customers who purchase multiple games with a given budget of **s** dollars.<br />\n",
    "And the available promotions are:\n",
    "- Purchasing the first game is priced **p** dollars.\n",
    "- For each game purchase, the price decreases by **d** dollars until it reaches a minimum price of **m** dollars.\n",
    "\n",
    "### Example\n",
    "p = 20<br />\n",
    "d = 3<br />\n",
    "m = 6<br />\n",
    "s = 80\n",
    "\n",
    "Based on the provided information, the given budget is 80 dollars. So, we can purchase a maximum of 6 video games, listed in the following sequence:<br />\n",
    "- First game: \\\\$20, leaving \\\\$60 in the budget.\n",
    "- Second game: 20 - 3 = \\\\$17, leaving \\\\$43 in the budget.\n",
    "- Third game: 17 - 3 = \\\\$14, leaving \\\\$29 in the budget.\n",
    "- Fourth game: 14 - 3 = \\\\$11, leaving \\\\$18 in the budget.\n",
    "- Fifth game: 14 - 3 = \\\\$8, leaving \\\\$10 in the budget.\n",
    "- Sixth game: 8 - 3 = \\\\$5, which is less than the minimum price **m**, so the price remains \\\\$8, leaving \\\\$2 (10 - 8) in the budget.\n",
    "\n",
    "### Algorithm\n",
    "- Set the initial count of purchased games to **0**.\n",
    "- While loops each purchase by subtracting from the budget until it reaches the minimum price:\n",
    "  - **p > m**: Check if the price **p** is greater than the minimum price **m**.\n",
    "  - **s >= p**: Check if the budget **s** is enough to purchase the game at its current price.\n",
    "    - **s -= p**: Decrease the game's price from the current budget.\n",
    "    - **count += 1**: Increase the count of purchased game.\n",
    "    - **p = max(p - d, p)**: Decrease the game's price by **d**, but keep it above the minimum price **m**.\n",
    "- Add the result of the current budget divided by the latest game's price to the count of purchased games **count += s // p**.\n",
    "- Return the value of **count**.\n"
   ]
  },
  {
   "cell_type": "code",
   "execution_count": 1,
   "metadata": {},
   "outputs": [],
   "source": [
    "def howManyGames(p, d, m, s):\n",
    "  count = 0\n",
    "\n",
    "  while p > m and s >= p:\n",
    "    s -= p\n",
    "    count += 1\n",
    "    p = max(p - d, m)\n",
    "    \n",
    "  count += s // p\n",
    "    \n",
    "  return count"
   ]
  },
  {
   "cell_type": "code",
   "execution_count": 2,
   "metadata": {},
   "outputs": [
    {
     "name": "stdout",
     "output_type": "stream",
     "text": [
      "count: 6\n"
     ]
    }
   ],
   "source": [
    "p, d, m, s = 20, 3, 6, 80\n",
    "count = howManyGames(p, d, m, s)\n",
    "print(f'count: {count}')"
   ]
  }
 ],
 "metadata": {
  "kernelspec": {
   "display_name": "Python 3",
   "language": "python",
   "name": "python3"
  },
  "language_info": {
   "codemirror_mode": {
    "name": "ipython",
    "version": 3
   },
   "file_extension": ".py",
   "mimetype": "text/x-python",
   "name": "python",
   "nbconvert_exporter": "python",
   "pygments_lexer": "ipython3",
   "version": "3.10.2"
  },
  "orig_nbformat": 4
 },
 "nbformat": 4,
 "nbformat_minor": 2
}
