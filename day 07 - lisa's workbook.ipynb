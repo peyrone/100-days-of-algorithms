{
 "cells": [
  {
   "cell_type": "markdown",
   "metadata": {},
   "source": [
    "## Explain the \"Lisa's Workbook\" problem from HackerRank.\n",
    "### Problem Statement\n",
    "\n",
    "Lisa got a new math workbook, which organized exercise problems into groups within chapters. She guessed that every special problem should retain an index similar to the book chapters.\n",
    "\n",
    "### Example\n",
    "Suppose the workbook has 5 chapters with 4, 2, 6, 1, and 10 problems in each, and every page can obtain to k problems, with variables defined as follows:\n",
    "\n",
    "n = 5<br />\n",
    "k = 3<br />\n",
    "arr = [4, 2, 6, 1, 10]<br />\n",
    "\n",
    "Explain the solution step by step:\n",
    "- **Chapter 1** contains 4 problems:\n",
    "  - **Page 1** includes problems 1, 2, and 3, with problem 1 identified as a special problem.\n",
    "  - **Page 2**  includes problem 4, which is not identified as a special problem.\n",
    "- **Chapter 2** contains 2 problems:\n",
    "  - **Page 3** includes problems 1 and 2, with problem 2 identified as a special problem.\n",
    "- **Chapter 3** contains 6 probles:\n",
    "  - **Page 4** includes problems 1, 2, and 3, with problem 3 identified as a special problem.\n",
    "  - **Page 5** includes problems 4, 5, and 6, without any special problems.\n",
    "- **Chapter 4** contains 1 problem:\n",
    "  - **Page 6** includes problem 1, which is not identified as a special problem.\n",
    "- **Chapter 5** contains 10 problems:\n",
    "  - **Page 7** includes problems 1, 2, and 3, without any special problems.\n",
    "  - **Page 8** includes problems 4, 5, and 6, with problem 5 identified as a special problem.\n",
    "  - **Page 9** includes problems 7, 8, and 9, without any special problems.\n",
    "  - **Page 10** includes problem 10, which is not identified as a special problem.\n",
    "\n",
    "### Algorithm\n",
    "\n",
    "- Set initial values of **page** to 1 and **count** to 0.\n",
    "- The first loop iterates through chapters in the workbook.\n",
    "  - The second loop iterates through problems in the current chapter, processing **k** problems during each iteration.\n",
    "    - Check if the current page number is between the **start** and **end** problems.\n",
    "      - Increment **count** by 1.\n",
    "    - Increment **page** by 1.\n",
    "- Return the value of **count**."
   ]
  },
  {
   "cell_type": "code",
   "execution_count": 1,
   "metadata": {},
   "outputs": [],
   "source": [
    "def workbook(n, k, arr):\n",
    "  page = 1\n",
    "  count = 0\n",
    "    \n",
    "  for i in range(n):\n",
    "    problems = arr[i]\n",
    "        \n",
    "    for j in range(0, problems, k):  \n",
    "      start = j + 1\n",
    "      end = min(j + k, problems)\n",
    "            \n",
    "      if page >= start and page <= end:\n",
    "        count += 1\n",
    "            \n",
    "      page += 1\n",
    "        \n",
    "  return count\n"
   ]
  },
  {
   "cell_type": "code",
   "execution_count": 2,
   "metadata": {},
   "outputs": [
    {
     "data": {
      "text/plain": [
       "4"
      ]
     },
     "execution_count": 2,
     "metadata": {},
     "output_type": "execute_result"
    }
   ],
   "source": [
    "n, k, arr = 5, 3, [4, 2, 6, 1, 10]\n",
    "workbook(n, k, arr)"
   ]
  }
 ],
 "metadata": {
  "kernelspec": {
   "display_name": "Python 3",
   "language": "python",
   "name": "python3"
  },
  "language_info": {
   "codemirror_mode": {
    "name": "ipython",
    "version": 3
   },
   "file_extension": ".py",
   "mimetype": "text/x-python",
   "name": "python",
   "nbconvert_exporter": "python",
   "pygments_lexer": "ipython3",
   "version": "3.10.2"
  },
  "orig_nbformat": 4
 },
 "nbformat": 4,
 "nbformat_minor": 2
}
