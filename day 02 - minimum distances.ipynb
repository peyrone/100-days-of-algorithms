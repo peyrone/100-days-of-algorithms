{
 "cells": [
  {
   "cell_type": "markdown",
   "metadata": {},
   "source": [
    "## Explain the \"Minimum Distances\" problem from HackerRank.\n",
    "### Problem Statement\n",
    "Given an integer sequence, find the minimum distance in indices between any two same numbers in the sequence. \n",
    "If there are no two same numbers, return -1\n",
    "\n",
    "### Example\n",
    "Given arr = [7, 1, 3, 4, 1, 7]\n",
    "\n",
    "There are two pairs with same numbers: 7 and 1. \n",
    "- The indices of the 7's are i = 0 and j = 5, resulting in a difference of |i-j| = 5.\n",
    "- The indices of the 1's are i = 1 and j = 4, resulting in a difference of |i-j| = 3.\n",
    "\n",
    "Hence, the minimum distance is 3.\n",
    "\n",
    "### Algorithm\n",
    "- Initialize the minimum distance as infinity using **min = float('inf')**.\n",
    "- Define a dictionary named **indices** to track the latest occurrence of each number in the sequence **arr**.\n",
    "- For each index **i** of the sequence **arr**:\n",
    "  - Check if **arr[i]** does not exist in **indices**, and add it with its current index.\n",
    "  - Otherwise, **arr[i]** has been seen:\n",
    "    - Calculate the difference **diff** between the current index and its previously stored index in **indices**.\n",
    "    - Check if **diff** is less than the existing min, and update **min** with the new **diff** value.\n",
    "    - Update the latest index of **arr[i]** in **indices**.\n",
    "- Return the variable **min**:\n",
    "  - Check if **min** remains as infinity, indicating no pair was found, return **-1**.\n",
    "  - Otherwise, return the value of **min**."
   ]
  },
  {
   "cell_type": "code",
   "execution_count": 1,
   "metadata": {},
   "outputs": [],
   "source": [
    "def minimumDistances(arr):\n",
    "  min = float('inf')\n",
    "  indices = {}\n",
    "\n",
    "  for i in range(len(arr)):\n",
    "    if arr[i] not in indices:\n",
    "      indices[arr[i]] = i\n",
    "    else:\n",
    "      diff = i - indices[arr[i]]\n",
    "      if diff < min:\n",
    "         min = diff\n",
    "      indices[arr[i]] = i\n",
    "\n",
    "  return -1 if min == float('inf') else min"
   ]
  },
  {
   "cell_type": "code",
   "execution_count": 2,
   "metadata": {},
   "outputs": [
    {
     "name": "stdout",
     "output_type": "stream",
     "text": [
      "min: 3\n"
     ]
    }
   ],
   "source": [
    "arr = [7, 1, 3, 4, 1, 7]\n",
    "min = minimumDistances(arr)\n",
    "print(f\"min: {min}\")"
   ]
  }
 ],
 "metadata": {
  "kernelspec": {
   "display_name": "Python 3",
   "language": "python",
   "name": "python3"
  },
  "language_info": {
   "codemirror_mode": {
    "name": "ipython",
    "version": 3
   },
   "file_extension": ".py",
   "mimetype": "text/x-python",
   "name": "python",
   "nbconvert_exporter": "python",
   "pygments_lexer": "ipython3",
   "version": "3.10.2"
  },
  "orig_nbformat": 4
 },
 "nbformat": 4,
 "nbformat_minor": 2
}
