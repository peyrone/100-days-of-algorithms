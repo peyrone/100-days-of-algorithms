{
 "cells": [
  {
   "cell_type": "markdown",
   "metadata": {},
   "source": [
    "## Explain the \"Service Lane\" problem from HackerRank.\n",
    "### Problem Statement\n",
    "\n",
    "Determine the minimum lane width required so that vehicles (1 width for bikes, 2 for cars, 3 for trucks) can travel through different road sections, with each section's width shown in a one-dimensional array.\n",
    "\n",
    "### Example\n",
    "\n",
    "Consider a service lane (**width**) with varying widths: [2, 3, 1, 2, 3, 2, 3, 3] and segments of its (**cases**) as: [[0, 3], [4, 6], [6, 7], [3, 5], [0, 7]].<br />\n",
    " - If the segment i, j is 0, 3, we look at the widths from segment width[0] to width[3], which are [2, 3, 1, 2].\n",
    " - The minimum width is 1, so only bikes can pass.\n",
    "\n",
    "### Algorithm\n",
    "\n",
    "- Initialize with an empty list named **result**.\n",
    "- For each pair **i**, **j** in **cases**.\n",
    "  - Slice the array from the start index **i** through the end index **j**.\n",
    "  - Find the smallest number in the slice array.\n",
    "  - Add that number to the variable **result**.\n"
   ]
  },
  {
   "cell_type": "code",
   "execution_count": 1,
   "metadata": {},
   "outputs": [],
   "source": [
    "def serviceLane(width, cases):\n",
    "  return [min(width[i:j+1]) for i, j in cases]"
   ]
  },
  {
   "cell_type": "code",
   "execution_count": 2,
   "metadata": {},
   "outputs": [
    {
     "name": "stdout",
     "output_type": "stream",
     "text": [
      "1\n",
      "2\n",
      "3\n",
      "2\n",
      "1\n"
     ]
    }
   ],
   "source": [
    "width, cases = [2, 3, 1, 2, 3, 2, 3, 3], [[0, 3], [4, 6], [6, 7], [3, 5], [0, 7]]\n",
    "result = serviceLane(width, cases)\n",
    "print('\\n'.join(map(str, result)))"
   ]
  }
 ],
 "metadata": {
  "kernelspec": {
   "display_name": "Python 3",
   "language": "python",
   "name": "python3"
  },
  "language_info": {
   "codemirror_mode": {
    "name": "ipython",
    "version": 3
   },
   "file_extension": ".py",
   "mimetype": "text/x-python",
   "name": "python",
   "nbconvert_exporter": "python",
   "pygments_lexer": "ipython3",
   "version": "3.10.2"
  },
  "orig_nbformat": 4
 },
 "nbformat": 4,
 "nbformat_minor": 2
}
