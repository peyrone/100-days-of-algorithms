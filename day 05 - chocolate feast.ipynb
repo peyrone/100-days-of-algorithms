{
 "cells": [
  {
   "cell_type": "markdown",
   "metadata": {},
   "source": [
    "## Explain the \"Chocolate Feast\" problem from HackerRank.\n",
    "### Problem Statement\n",
    "\n",
    "Auntie Penny's shop has a special promotion where you can exchange chocolate wrappers for free chocolates. This problem determines the total chocolates we can get by purchasing them and trading wrappers at the shop.\n",
    "\n",
    "### Example\n",
    "\n",
    "n = 6<br />\n",
    "c = 2<br />\n",
    "m = 2\n",
    "\n",
    "Based on the given details, the budget is 6, each chocolate is 2, and 2 wrappers get a free chocolate:<br />\n",
    "- With a budget of 6, we can buy 3 chocolates (6 divided by 2).\n",
    "- These 3 chocolates give us 3 wrappers. Trading 2 wrappers gets us a free chocolate, which brings total chocolates to 4.\n",
    "- This new chocolate gives another wrapper. We now have 2 wrappers to trade another chocolate. So, the total chocolates are 5.\n",
    "\n",
    "### Algorithm\n",
    "\n",
    "- Initialize the **chocolates** variable by dividing **n** by **c**.\n",
    "- Next, assign the **wrappers** variable to the value of **chocolates**.\n",
    "- While loops trading **wrappers** until it is below the rate **m**.\n",
    "  - **n // c**: Determine how many new chocolates are received by trading wrappers.\n",
    "  - **(wrappers % m) + new_chocolates**: Calculate the extra wrappers using the modulo operation with the rate **m**, then add the wrappers obtained from the new chocolates.\n",
    "  - **chocolates += new_chocolates**: Update the total chocolates by adding the new ones.\n",
    "- Return the total count of **chocolates**."
   ]
  },
  {
   "cell_type": "code",
   "execution_count": 1,
   "metadata": {},
   "outputs": [],
   "source": [
    "def chocolateFeast(n, c, m):\n",
    "  chocolates = n // c\n",
    "  wrappers = chocolates\n",
    "\n",
    "  while wrappers >= m:\n",
    "    new_chocolates = wrappers // m\n",
    "    wrappers = (wrappers % m) + new_chocolates\n",
    "    chocolates += new_chocolates\n",
    "\n",
    "  return chocolates\n"
   ]
  },
  {
   "cell_type": "code",
   "execution_count": 2,
   "metadata": {},
   "outputs": [
    {
     "data": {
      "text/plain": [
       "5"
      ]
     },
     "execution_count": 2,
     "metadata": {},
     "output_type": "execute_result"
    }
   ],
   "source": [
    "n, c, m = 6, 2, 2\n",
    "chocolateFeast(n, c, m)"
   ]
  }
 ],
 "metadata": {
  "kernelspec": {
   "display_name": "Python 3",
   "language": "python",
   "name": "python3"
  },
  "language_info": {
   "codemirror_mode": {
    "name": "ipython",
    "version": 3
   },
   "file_extension": ".py",
   "mimetype": "text/x-python",
   "name": "python",
   "nbconvert_exporter": "python",
   "pygments_lexer": "ipython3",
   "version": "3.10.2"
  },
  "orig_nbformat": 4
 },
 "nbformat": 4,
 "nbformat_minor": 2
}
